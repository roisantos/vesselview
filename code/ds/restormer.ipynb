{
 "cells": [
  {
   "cell_type": "code",
   "execution_count": null,
   "metadata": {
    "vscode": {
     "languageId": "plaintext"
    }
   },
   "outputs": [],
   "source": [
    "import os\n",
    "!pip install einops\n"
   ]
  },
  {
   "cell_type": "code",
   "execution_count": null,
   "metadata": {
    "vscode": {
     "languageId": "plaintext"
    }
   },
   "outputs": [],
   "source": [
    "import torch\n",
    "import torch.nn.functional as F\n",
    "import torchvision.transforms.functional as TF\n",
    "from runpy import run_path\n",
    "from skimage import img_as_ubyte\n",
    "from natsort import natsorted\n",
    "from glob import glob\n",
    "import cv2\n",
    "from tqdm import tqdm\n",
    "import argparse\n",
    "import numpy as np\n",
    "\n",
    "def get_weights_and_parameters(task, parameters):\n",
    "    if task == 'Motion_Deblurring':\n",
    "        weights = os.path.join('Motion_Deblurring', 'pretrained_models', 'motion_deblurring.pth')\n",
    "    elif task == 'Single_Image_Defocus_Deblurring':\n",
    "        weights = os.path.join('Defocus_Deblurring', 'pretrained_models', 'single_image_defocus_deblurring.pth')\n",
    "    elif task == 'Deraining':\n",
    "        weights = os.path.join('Deraining', 'pretrained_models', 'deraining.pth')\n",
    "    elif task == 'Real_Denoising':\n",
    "        weights = os.path.join('Denoising', 'pretrained_models', 'real_denoising.pth')\n",
    "        parameters['LayerNorm_type'] =  'BiasFree'\n",
    "    return weights, parameters\n",
    "\n",
    "\n",
    "# Get model weights and parameters\n",
    "parameters = {'inp_channels':3, 'out_channels':3, 'dim':48, 'num_blocks':[4,6,6,8], 'num_refinement_blocks':4, 'heads':[1,2,4,8], 'ffn_expansion_factor':2.66, 'bias':False, 'LayerNorm_type':'WithBias', 'dual_pixel_task':False}\n",
    "weights, parameters = get_weights_and_parameters(task, parameters)\n",
    "\n",
    "load_arch = run_path(os.path.join('basicsr', 'models', 'archs', 'restormer_arch.py'))\n",
    "model = load_arch['Restormer'](**parameters)\n",
    "model.cuda()\n",
    "\n",
    "checkpoint = torch.load(weights)\n",
    "model.load_state_dict(checkpoint['params'])\n",
    "model.eval()\n"
   ]
  },
  {
   "cell_type": "code",
   "execution_count": null,
   "metadata": {
    "vscode": {
     "languageId": "plaintext"
    }
   },
   "outputs": [],
   "source": [
    "input_dir = '../FIVESoriginal/train/image'\n",
    "out_dir = '../FIVESresto/train/image'\n",
    "os.makedirs(out_dir, exist_ok=True)\n",
    "extensions = ['jpg', 'JPG', 'png', 'PNG', 'jpeg', 'JPEG', 'bmp', 'BMP']\n",
    "files = natsorted(glob(os.path.join(input_dir, '*')))\n",
    "\n",
    "img_multiple_of = 8\n",
    "\n",
    "print(f\"\\n ==> Running {task} with weights {weights}\\n \")\n",
    "with torch.no_grad():\n",
    "  for filepath in tqdm(files):\n",
    "      # print(file_)\n",
    "      torch.cuda.ipc_collect()\n",
    "      torch.cuda.empty_cache()\n",
    "      img = cv2.cvtColor(cv2.imread(filepath), cv2.COLOR_BGR2RGB)\n",
    "      input_ = torch.from_numpy(img).float().div(255.).permute(2,0,1).unsqueeze(0).cuda()\n",
    "\n",
    "      # Pad the input if not_multiple_of 8\n",
    "      h,w = input_.shape[2], input_.shape[3]\n",
    "      H,W = ((h+img_multiple_of)//img_multiple_of)*img_multiple_of, ((w+img_multiple_of)//img_multiple_of)*img_multiple_of\n",
    "      padh = H-h if h%img_multiple_of!=0 else 0\n",
    "      padw = W-w if w%img_multiple_of!=0 else 0\n",
    "      input_ = F.pad(input_, (0,padw,0,padh), 'reflect')\n",
    "\n",
    "      restored = model(input_)\n",
    "      restored = torch.clamp(restored, 0, 1)\n",
    "\n",
    "      # Unpad the output\n",
    "      restored = restored[:,:,:h,:w]\n",
    "\n",
    "      restored = restored.permute(0, 2, 3, 1).cpu().detach().numpy()\n",
    "      restored = img_as_ubyte(restored[0])\n",
    "\n",
    "      filename = os.path.split(filepath)[-1]\n",
    "      cv2.imwrite(os.path.join(out_dir, filename),cv2.cvtColor(restored, cv2.COLOR_RGB2BGR))"
   ]
  },
  {
   "cell_type": "code",
   "execution_count": null,
   "metadata": {
    "vscode": {
     "languageId": "plaintext"
    }
   },
   "outputs": [],
   "source": [
    "import matplotlib.pyplot as plt\n",
    "inp_filenames = natsorted(glob(os.path.join(input_dir, '*')))\n",
    "out_filenames = natsorted(glob(os.path.join(out_dir, '*')))\n",
    "\n",
    "## Will display only first 5 images\n",
    "num_display_images = 5\n",
    "if len(inp_filenames)>num_display_images:\n",
    "  inp_filenames = inp_filenames[:num_display_images]\n",
    "  out_filenames = out_filenames[:num_display_images]\n",
    "\n",
    "print(f\"Results: {task}\")\n",
    "for inp_file, out_file in zip(inp_filenames, out_filenames):\n",
    "  degraded = cv2.cvtColor(cv2.imread(inp_file), cv2.COLOR_BGR2RGB)\n",
    "  restored = cv2.cvtColor(cv2.imread(out_file), cv2.COLOR_BGR2RGB)\n",
    "  ## Display Images\n",
    "  fig, axes = plt.subplots(nrows=1, ncols=2)\n",
    "  dpi = fig.get_dpi()\n",
    "  fig.set_size_inches(900/ dpi, 448 / dpi)\n",
    "  plt.subplots_adjust(left=0, right=1, bottom=0, top=1)\n",
    "  axes[0].axis('off')\n",
    "  axes[0].imshow(degraded)\n",
    "  axes[1].axis('off')\n",
    "  axes[1].imshow(restored)\n",
    "  plt.show()"
   ]
  }
 ],
 "metadata": {
  "language_info": {
   "name": "python"
  }
 },
 "nbformat": 4,
 "nbformat_minor": 2
}
